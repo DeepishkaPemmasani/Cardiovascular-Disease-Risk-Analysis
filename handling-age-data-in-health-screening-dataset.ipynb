{
 "cells": [
  {
   "cell_type": "code",
   "execution_count": 1,
   "id": "unauthorized-toronto",
   "metadata": {
    "_cell_guid": "b1076dfc-b9ad-4769-8c92-a6c4dae69d19",
    "_uuid": "8f2839f25d086af736a60e9eeb907d3b93b6e0e5",
    "execution": {
     "iopub.execute_input": "2021-04-16T10:06:10.985180Z",
     "iopub.status.busy": "2021-04-16T10:06:10.983386Z",
     "iopub.status.idle": "2021-04-16T10:06:10.995486Z",
     "shell.execute_reply": "2021-04-16T10:06:10.996249Z"
    },
    "papermill": {
     "duration": 0.023904,
     "end_time": "2021-04-16T10:06:10.996634",
     "exception": false,
     "start_time": "2021-04-16T10:06:10.972730",
     "status": "completed"
    },
    "tags": []
   },
   "outputs": [
    {
     "name": "stdout",
     "output_type": "stream",
     "text": [
      "/kaggle/input/health-screening-data/Health Screening Data.csv\n"
     ]
    }
   ],
   "source": [
    "# This Python 3 environment comes with many helpful analytics libraries installed\n",
    "# It is defined by the kaggle/python Docker image: https://github.com/kaggle/docker-python\n",
    "# For example, here's several helpful packages to load\n",
    "\n",
    "import numpy as np # linear algebra\n",
    "import pandas as pd # data processing, CSV file I/O (e.g. pd.read_csv)\n",
    "\n",
    "# Input data files are available in the read-only \"../input/\" directory\n",
    "# For example, running this (by clicking run or pressing Shift+Enter) will list all files under the input directory\n",
    "\n",
    "import os\n",
    "for dirname, _, filenames in os.walk('/kaggle/input'):\n",
    "    for filename in filenames:\n",
    "        print(os.path.join(dirname, filename))\n",
    "\n",
    "# You can write up to 20GB to the current directory (/kaggle/working/) that gets preserved as output when you create a version using \"Save & Run All\" \n",
    "# You can also write temporary files to /kaggle/temp/, but they won't be saved outside of the current session"
   ]
  },
  {
   "cell_type": "code",
   "execution_count": 2,
   "id": "decreased-metro",
   "metadata": {
    "execution": {
     "iopub.execute_input": "2021-04-16T10:06:11.015137Z",
     "iopub.status.busy": "2021-04-16T10:06:11.014336Z",
     "iopub.status.idle": "2021-04-16T10:06:11.016429Z",
     "shell.execute_reply": "2021-04-16T10:06:11.017092Z"
    },
    "papermill": {
     "duration": 0.013392,
     "end_time": "2021-04-16T10:06:11.017268",
     "exception": false,
     "start_time": "2021-04-16T10:06:11.003876",
     "status": "completed"
    },
    "tags": []
   },
   "outputs": [],
   "source": [
    "import matplotlib.pyplot as plt"
   ]
  },
  {
   "cell_type": "code",
   "execution_count": 3,
   "id": "other-advocate",
   "metadata": {
    "execution": {
     "iopub.execute_input": "2021-04-16T10:06:11.032746Z",
     "iopub.status.busy": "2021-04-16T10:06:11.032025Z",
     "iopub.status.idle": "2021-04-16T10:06:11.424735Z",
     "shell.execute_reply": "2021-04-16T10:06:11.425253Z"
    },
    "papermill": {
     "duration": 0.402027,
     "end_time": "2021-04-16T10:06:11.425422",
     "exception": false,
     "start_time": "2021-04-16T10:06:11.023395",
     "status": "completed"
    },
    "tags": []
   },
   "outputs": [
    {
     "data": {
      "text/plain": [
       "<AxesSubplot:>"
      ]
     },
     "execution_count": 3,
     "metadata": {},
     "output_type": "execute_result"
    },
    {
     "data": {
      "image/png": "[encoded data removed]",
      "text/plain": [
       "<Figure size 432x288 with 1 Axes>"
      ]
     },
     "metadata": {
      "needs_background": "light"
     },
     "output_type": "display_data"
    }
   ],
   "source": [
    "df =  pd.read_csv('../input/health-screening-data/Health Screening Data.csv')\n",
    "df.age.plot.box()"
   ]
  },
  {
   "cell_type": "code",
   "execution_count": 4,
   "id": "adult-theology",
   "metadata": {
    "execution": {
     "iopub.execute_input": "2021-04-16T10:06:11.445342Z",
     "iopub.status.busy": "2021-04-16T10:06:11.444678Z",
     "iopub.status.idle": "2021-04-16T10:06:11.457230Z",
     "shell.execute_reply": "2021-04-16T10:06:11.456600Z"
    },
    "papermill": {
     "duration": 0.024946,
     "end_time": "2021-04-16T10:06:11.457483",
     "exception": false,
     "start_time": "2021-04-16T10:06:11.432537",
     "status": "completed"
    },
    "tags": []
   },
   "outputs": [
    {
     "data": {
      "text/plain": [
       "count    69960.000000\n",
       "mean     19469.038265\n",
       "std       2467.203943\n",
       "min      10798.000000\n",
       "25%      17665.000000\n",
       "50%      19703.000000\n",
       "75%      21327.000000\n",
       "max      23713.000000\n",
       "Name: age, dtype: float64"
      ]
     },
     "execution_count": 4,
     "metadata": {},
     "output_type": "execute_result"
    }
   ],
   "source": [
    "df.age.describe()"
   ]
  },
  {
   "cell_type": "code",
   "execution_count": 5,
   "id": "solid-conditions",
   "metadata": {
    "execution": {
     "iopub.execute_input": "2021-04-16T10:06:11.479934Z",
     "iopub.status.busy": "2021-04-16T10:06:11.478839Z",
     "iopub.status.idle": "2021-04-16T10:06:11.482985Z",
     "shell.execute_reply": "2021-04-16T10:06:11.482297Z"
    },
    "papermill": {
     "duration": 0.017202,
     "end_time": "2021-04-16T10:06:11.483128",
     "exception": false,
     "start_time": "2021-04-16T10:06:11.465926",
     "status": "completed"
    },
    "tags": []
   },
   "outputs": [
    {
     "data": {
      "text/plain": [
       "64.96712328767123"
      ]
     },
     "execution_count": 5,
     "metadata": {},
     "output_type": "execute_result"
    }
   ],
   "source": [
    "(df.age.max())/365"
   ]
  },
  {
   "cell_type": "markdown",
   "id": "joint-buffer",
   "metadata": {
    "papermill": {
     "duration": 0.007623,
     "end_time": "2021-04-16T10:06:11.498860",
     "exception": false,
     "start_time": "2021-04-16T10:06:11.491237",
     "status": "completed"
    },
    "tags": []
   },
   "source": [
    "* This shows that maximum age is 64.96 ~ approx equal to 65 which can be possible value.\n",
    "* Age column has age in days which need to get converted in years. \n",
    "* For reference there is one column added already with the conversion metioned above. Column name in AgeinYr"
   ]
  }
 ],
 "metadata": {
  "kernelspec": {
   "display_name": "Python 3",
   "language": "python",
   "name": "python3"
  },
  "language_info": {
   "codemirror_mode": {
    "name": "ipython",
    "version": 3
   },
   "file_extension": ".py",
   "mimetype": "text/x-python",
   "name": "python",
   "nbconvert_exporter": "python",
   "pygments_lexer": "ipython3",
   "version": "3.7.9"
  },
  "papermill": {
   "default_parameters": {},
   "duration": 7.491649,
   "end_time": "2021-04-16T10:06:12.116698",
   "environment_variables": {},
   "exception": null,
   "input_path": "__notebook__.ipynb",
   "output_path": "__notebook__.ipynb",
   "parameters": {},
   "start_time": "2021-04-16T10:06:04.625049",
   "version": "2.3.2"
  }
 },
 "nbformat": 4,
 "nbformat_minor": 5
}
